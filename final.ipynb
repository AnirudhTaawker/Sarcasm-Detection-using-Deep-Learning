{
 "cells": [
  {
   "cell_type": "code",
   "execution_count": 1,
   "metadata": {},
   "outputs": [
    {
     "name": "stdout",
     "output_type": "stream",
     "text": [
      "WARNING:tensorflow:From C:\\Users\\aadit\\OneDrive\\Desktop\\College Stuff\\C\\python\\TDL\\cuda\\lib\\site-packages\\tf_keras\\src\\losses.py:2976: The name tf.losses.sparse_softmax_cross_entropy is deprecated. Please use tf.compat.v1.losses.sparse_softmax_cross_entropy instead.\n",
      "\n"
     ]
    }
   ],
   "source": [
    "import tensorflow as tf\n",
    "import tensorflow_hub as hub\n",
    "from transformers import BertTokenizer\n",
    "from tensorflow.keras.models import Model\n",
    "from tensorflow.keras.layers import Input, Dense\n",
    "from tensorflow.keras.models import Sequential\n",
    "\n",
    "from tensorflow.keras.preprocessing.text import Tokenizer\n",
    "from tensorflow.keras.preprocessing.sequence import pad_sequences\n",
    "\n",
    "from tensorflow.keras.layers import Embedding, Conv1D, GlobalMaxPooling1D, Dense,Dropout, SimpleRNN,LSTM\n",
    "from sklearn.model_selection import train_test_split\n",
    "import pandas as pd\n",
    "import numpy as np\n"
   ]
  },
  {
   "cell_type": "code",
   "execution_count": 2,
   "metadata": {},
   "outputs": [
    {
     "data": {
      "text/html": [
       "<div>\n",
       "<style scoped>\n",
       "    .dataframe tbody tr th:only-of-type {\n",
       "        vertical-align: middle;\n",
       "    }\n",
       "\n",
       "    .dataframe tbody tr th {\n",
       "        vertical-align: top;\n",
       "    }\n",
       "\n",
       "    .dataframe thead th {\n",
       "        text-align: right;\n",
       "    }\n",
       "</style>\n",
       "<table border=\"1\" class=\"dataframe\">\n",
       "  <thead>\n",
       "    <tr style=\"text-align: right;\">\n",
       "      <th></th>\n",
       "      <th>article_link</th>\n",
       "      <th>headline</th>\n",
       "      <th>is_sarcastic</th>\n",
       "    </tr>\n",
       "  </thead>\n",
       "  <tbody>\n",
       "    <tr>\n",
       "      <th>0</th>\n",
       "      <td>https://www.huffingtonpost.com/entry/versace-b...</td>\n",
       "      <td>former versace store clerk sues over secret 'b...</td>\n",
       "      <td>0</td>\n",
       "    </tr>\n",
       "    <tr>\n",
       "      <th>1</th>\n",
       "      <td>https://www.huffingtonpost.com/entry/roseanne-...</td>\n",
       "      <td>the 'roseanne' revival catches up to our thorn...</td>\n",
       "      <td>0</td>\n",
       "    </tr>\n",
       "    <tr>\n",
       "      <th>2</th>\n",
       "      <td>https://local.theonion.com/mom-starting-to-fea...</td>\n",
       "      <td>mom starting to fear son's web series closest ...</td>\n",
       "      <td>1</td>\n",
       "    </tr>\n",
       "    <tr>\n",
       "      <th>3</th>\n",
       "      <td>https://politics.theonion.com/boehner-just-wan...</td>\n",
       "      <td>boehner just wants wife to listen, not come up...</td>\n",
       "      <td>1</td>\n",
       "    </tr>\n",
       "    <tr>\n",
       "      <th>4</th>\n",
       "      <td>https://www.huffingtonpost.com/entry/jk-rowlin...</td>\n",
       "      <td>j.k. rowling wishes snape happy birthday in th...</td>\n",
       "      <td>0</td>\n",
       "    </tr>\n",
       "  </tbody>\n",
       "</table>\n",
       "</div>"
      ],
      "text/plain": [
       "                                        article_link  \\\n",
       "0  https://www.huffingtonpost.com/entry/versace-b...   \n",
       "1  https://www.huffingtonpost.com/entry/roseanne-...   \n",
       "2  https://local.theonion.com/mom-starting-to-fea...   \n",
       "3  https://politics.theonion.com/boehner-just-wan...   \n",
       "4  https://www.huffingtonpost.com/entry/jk-rowlin...   \n",
       "\n",
       "                                            headline  is_sarcastic  \n",
       "0  former versace store clerk sues over secret 'b...             0  \n",
       "1  the 'roseanne' revival catches up to our thorn...             0  \n",
       "2  mom starting to fear son's web series closest ...             1  \n",
       "3  boehner just wants wife to listen, not come up...             1  \n",
       "4  j.k. rowling wishes snape happy birthday in th...             0  "
      ]
     },
     "execution_count": 2,
     "metadata": {},
     "output_type": "execute_result"
    }
   ],
   "source": [
    "# Load data from CSV\n",
    "data = pd.read_json(\"Sarcasm_Headlines_Dataset.json\",lines=True)\n",
    "\n",
    "# Split data into sentences and labels\n",
    "sentences = data[\"headline\"].values\n",
    "labels = data[\"is_sarcastic\"].values\n",
    "train_sentences, test_sentences, train_labels, test_labels = train_test_split(sentences, labels, test_size=0.2, random_state=42)\n",
    "\n",
    "data.head()"
   ]
  },
  {
   "cell_type": "code",
   "execution_count": 3,
   "metadata": {},
   "outputs": [
    {
     "name": "stdout",
     "output_type": "stream",
     "text": [
      "Sample Headlines:\n",
      "1. former versace store clerk sues over secret 'black code' for minority shoppers\n",
      "\n",
      "2. the 'roseanne' revival catches up to our thorny political mood, for better and worse\n",
      "\n",
      "3. mom starting to fear son's web series closest thing she will have to grandchild\n",
      "\n",
      "4. boehner just wants wife to listen, not come up with alternative debt-reduction ideas\n",
      "\n",
      "5. j.k. rowling wishes snape happy birthday in the most magical way\n",
      "\n"
     ]
    },
    {
     "data": {
      "image/png": "[encoded data removed]",
      "text/plain": [
       "<Figure size 600x400 with 1 Axes>"
      ]
     },
     "metadata": {},
     "output_type": "display_data"
    },
    {
     "ename": "ModuleNotFoundError",
     "evalue": "No module named 'wordcloud'",
     "output_type": "error",
     "traceback": [
      "\u001b[1;31m---------------------------------------------------------------------------\u001b[0m",
      "\u001b[1;31mModuleNotFoundError\u001b[0m                       Traceback (most recent call last)",
      "Cell \u001b[1;32mIn[3], line 18\u001b[0m\n\u001b[0;32m     15\u001b[0m plt\u001b[38;5;241m.\u001b[39mshow()\n\u001b[0;32m     17\u001b[0m \u001b[38;5;66;03m# Generate word cloud\u001b[39;00m\n\u001b[1;32m---> 18\u001b[0m \u001b[38;5;28;01mfrom\u001b[39;00m \u001b[38;5;21;01mwordcloud\u001b[39;00m \u001b[38;5;28;01mimport\u001b[39;00m WordCloud\n\u001b[0;32m     20\u001b[0m all_text \u001b[38;5;241m=\u001b[39m \u001b[38;5;124m'\u001b[39m\u001b[38;5;124m \u001b[39m\u001b[38;5;124m'\u001b[39m\u001b[38;5;241m.\u001b[39mjoin(sentences)\n\u001b[0;32m     21\u001b[0m wordcloud \u001b[38;5;241m=\u001b[39m WordCloud(width\u001b[38;5;241m=\u001b[39m\u001b[38;5;241m800\u001b[39m, height\u001b[38;5;241m=\u001b[39m\u001b[38;5;241m400\u001b[39m, background_color\u001b[38;5;241m=\u001b[39m\u001b[38;5;124m'\u001b[39m\u001b[38;5;124mwhite\u001b[39m\u001b[38;5;124m'\u001b[39m)\u001b[38;5;241m.\u001b[39mgenerate(all_text)\n",
      "\u001b[1;31mModuleNotFoundError\u001b[0m: No module named 'wordcloud'"
     ]
    }
   ],
   "source": [
    "import matplotlib.pyplot as plt\n",
    "\n",
    "# Display sample data points\n",
    "print(\"Sample Headlines:\")\n",
    "for i in range(5):\n",
    "    print(f\"{i+1}. {sentences[i]}\")\n",
    "    print()\n",
    "\n",
    "# Plot class distribution\n",
    "plt.figure(figsize=(6, 4))\n",
    "plt.bar(['Sarcastic', 'Not Sarcastic'], [sum(labels), len(labels) - sum(labels)], color=['orange', 'blue'])\n",
    "plt.title('Class Distribution')\n",
    "plt.xlabel('Class')\n",
    "plt.ylabel('Count')\n",
    "plt.show()\n",
    "\n",
    "# Generate word cloud\n",
    "from wordcloud import WordCloud\n",
    "\n",
    "all_text = ' '.join(sentences)\n",
    "wordcloud = WordCloud(width=800, height=400, background_color='white').generate(all_text)\n",
    "\n",
    "# Plot the word cloud\n",
    "plt.figure(figsize=(10, 6))\n",
    "plt.imshow(wordcloud, interpolation='bilinear')\n",
    "plt.axis('off')\n",
    "plt.title('Word Cloud of Headlines')\n",
    "plt.show()\n"
   ]
  },
  {
   "cell_type": "code",
   "execution_count": 4,
   "metadata": {},
   "outputs": [
    {
     "name": "stdout",
     "output_type": "stream",
     "text": [
      "254\n"
     ]
    }
   ],
   "source": [
    "max_sentence_length = max(len(sentence) for sentence in sentences)\n",
    "print(max_sentence_length)"
   ]
  },
  {
   "cell_type": "code",
   "execution_count": 6,
   "metadata": {},
   "outputs": [],
   "source": [
    "from transformers import BertTokenizer, BertModel\n",
    "import torch\n",
    "import numpy as np\n",
    "\n",
    "def get_bert_embeddings(sentences, max_length=256, batch_size=8):\n",
    "    \n",
    "    tokenizer = BertTokenizer.from_pretrained('bert-base-uncased')\n",
    "    model = BertModel.from_pretrained('bert-base-uncased')\n",
    "    model.eval()  # Set model to evaluation mode\n",
    "\n",
    "    all_embeddings = []\n",
    "\n",
    "    for i in range(0, len(sentences), batch_size):\n",
    "        batch = sentences[i:i+batch_size]\n",
    "        tokenized_batch = tokenizer(batch, padding=True, truncation=True, max_length=max_length, return_tensors='pt')\n",
    "\n",
    "        with torch.no_grad():\n",
    "            outputs = model(**tokenized_batch)\n",
    "            embeddings = outputs.last_hidden_state.numpy()\n",
    "\n",
    "        all_embeddings.append(embeddings)\n",
    "\n",
    "    # Pad arrays to the same size\n",
    "    max_len = max(embedding.shape[1] for embedding in all_embeddings)\n",
    "    padded_embeddings = [np.pad(embedding, ((0, 0), (0, max_len - embedding.shape[1]), (0, 0)), mode='constant', constant_values=0) for embedding in all_embeddings]\n",
    "\n",
    "    # Convert the list of arrays to a single numpy array\n",
    "    return np.concatenate(padded_embeddings, axis=0)\n",
    "\n",
    "# Example usage:\n",
    "train_embeddings = get_bert_embeddings(train_sentences.tolist())\n",
    "test_embeddings = get_bert_embeddings(test_sentences.tolist())\n"
   ]
  },
  {
   "cell_type": "code",
   "execution_count": null,
   "metadata": {},
   "outputs": [],
   "source": [
    "\"\"\"\n",
    "tokenizer = Tokenizer(num_words=10000, oov_token='<OOV>')\n",
    "tokenizer.fit_on_texts(train_sentences)\n",
    "train_sequences = tokenizer.texts_to_sequences(train_sentences)\n",
    "test_sequences = tokenizer.texts_to_sequences(test_sentences)\n",
    "\n",
    "max_sequence_length = 128\n",
    "train_padded = pad_sequences(train_sequences, maxlen=max_sequence_length, padding='post', truncating='post')\n",
    "test_padded = pad_sequences(test_sequences, maxlen=max_sequence_length, padding='post', truncating='post')\n",
    "\n",
    "input_length = max_sequence_length\n",
    "vocab_size = len(tokenizer.word_index) + 1\n",
    "\"\"\""
   ]
  },
  {
   "cell_type": "code",
   "execution_count": 12,
   "metadata": {},
   "outputs": [
    {
     "name": "stdout",
     "output_type": "stream",
     "text": [
      "Epoch 1/5\n",
      "\u001b[1m668/668\u001b[0m \u001b[32m━━━━━━━━━━━━━━━━━━━━\u001b[0m\u001b[37m\u001b[0m \u001b[1m27s\u001b[0m 36ms/step - accuracy: 0.8067 - loss: 0.4150 - val_accuracy: 0.8939 - val_loss: 0.2628\n",
      "Epoch 2/5\n",
      "\u001b[1m668/668\u001b[0m \u001b[32m━━━━━━━━━━━━━━━━━━━━\u001b[0m\u001b[37m\u001b[0m \u001b[1m20s\u001b[0m 30ms/step - accuracy: 0.9079 - loss: 0.2256 - val_accuracy: 0.8993 - val_loss: 0.2565\n",
      "Epoch 3/5\n",
      "\u001b[1m668/668\u001b[0m \u001b[32m━━━━━━━━━━━━━━━━━━━━\u001b[0m\u001b[37m\u001b[0m \u001b[1m18s\u001b[0m 27ms/step - accuracy: 0.9420 - loss: 0.1503 - val_accuracy: 0.8991 - val_loss: 0.2718\n",
      "Epoch 4/5\n",
      "\u001b[1m668/668\u001b[0m \u001b[32m━━━━━━━━━━━━━━━━━━━━\u001b[0m\u001b[37m\u001b[0m \u001b[1m18s\u001b[0m 27ms/step - accuracy: 0.9608 - loss: 0.0966 - val_accuracy: 0.9015 - val_loss: 0.2789\n",
      "Epoch 5/5\n",
      "\u001b[1m668/668\u001b[0m \u001b[32m━━━━━━━━━━━━━━━━━━━━\u001b[0m\u001b[37m\u001b[0m \u001b[1m18s\u001b[0m 27ms/step - accuracy: 0.9792 - loss: 0.0583 - val_accuracy: 0.8948 - val_loss: 0.4043\n"
     ]
    },
    {
     "data": {
      "text/plain": [
       "<keras.src.callbacks.history.History at 0x17ebd7abeb0>"
      ]
     },
     "execution_count": 12,
     "metadata": {},
     "output_type": "execute_result"
    }
   ],
   "source": [
    "from keras.models import Sequential\n",
    "from keras.layers import Conv1D, GlobalMaxPooling1D, Dense, Dropout\n",
    "\n",
    "def create_cnn_model(input_dim, max_len):\n",
    "    model = Sequential()\n",
    "    model.add(Conv1D(128, 5, activation='relu', input_shape=(max_len, input_dim)))\n",
    "    model.add(GlobalMaxPooling1D())\n",
    "    model.add(Dense(64, activation='relu'))\n",
    "    model.add(Dropout(0.2))\n",
    "    model.add(Dense(1, activation='sigmoid'))\n",
    "    return model\n",
    "\n",
    "# Define input dimensions\n",
    "input_dim = train_embeddings.shape[2]  # Dimension of BERT embeddings\n",
    "max_len = train_embeddings.shape[1]  # Maximum sequence length\n",
    "\n",
    "# Create CNN model\n",
    "cnn_model = create_cnn_model(input_dim, max_len)\n",
    "\n",
    "# Compile CNN model\n",
    "cnn_model.compile(optimizer='adam', loss='binary_crossentropy', metrics=['accuracy'])\n",
    "\n",
    "# Train CNN model\n",
    "cnn_model.fit(train_embeddings, train_labels, epochs=5, validation_data=(test_embeddings, test_labels))\n"
   ]
  },
  {
   "cell_type": "code",
   "execution_count": 8,
   "metadata": {},
   "outputs": [],
   "source": [
    "np.save(\"train_embeddings.npy\", train_embeddings)\n",
    "np.save(\"test_embeddings.npy\", test_embeddings)"
   ]
  },
  {
   "cell_type": "code",
   "execution_count": 9,
   "metadata": {},
   "outputs": [
    {
     "name": "stderr",
     "output_type": "stream",
     "text": [
      "C:\\Users\\aadit\\OneDrive\\Desktop\\College Stuff\\C\\python\\TDL\\cuda\\lib\\site-packages\\keras\\src\\layers\\rnn\\rnn.py:204: UserWarning: Do not pass an `input_shape`/`input_dim` argument to a layer. When using Sequential models, prefer using an `Input(shape)` object as the first layer in the model instead.\n",
      "  super().__init__(**kwargs)\n",
      "\n",
      "KeyboardInterrupt\n",
      "\n"
     ]
    }
   ],
   "source": [
    "from keras.models import Sequential\n",
    "from keras.layers import SimpleRNN, Dense, Dropout\n",
    "\n",
    "def create_rnn_model(input_dim, max_len):\n",
    "    model = Sequential()\n",
    "    model.add(SimpleRNN(128, input_shape=(max_len, input_dim)))\n",
    "    model.add(Dense(64, activation='relu'))\n",
    "    model.add(Dropout(0.2))\n",
    "    model.add(Dense(1, activation='sigmoid'))\n",
    "    return model\n",
    "\n",
    "# Define input dimensions\n",
    "input_dim = train_embeddings.shape[2]  # Dimension of BERT embeddings\n",
    "max_len = train_embeddings.shape[1]  # Maximum sequence length\n",
    "\n",
    "# Create RNN model\n",
    "rnn_model = create_rnn_model(input_dim, max_len)\n",
    "\n",
    "# Compile RNN model\n",
    "rnn_model.compile(optimizer='adam', loss='binary_crossentropy', metrics=['accuracy'])\n",
    "\n",
    "# Train RNN model\n",
    "rnn_model.fit(train_embeddings, train_labels, epochs=5, validation_data=(test_embeddings, test_labels))\n"
   ]
  },
  {
   "cell_type": "code",
   "execution_count": 12,
   "metadata": {},
   "outputs": [
    {
     "name": "stdout",
     "output_type": "stream",
     "text": [
      "Epoch 1/5\n",
      "\u001b[1m668/668\u001b[0m \u001b[32m━━━━━━━━━━━━━━━━━━━━\u001b[0m\u001b[37m\u001b[0m \u001b[1m22s\u001b[0m 27ms/step - accuracy: 0.7648 - loss: 0.4928 - val_accuracy: 0.8182 - val_loss: 0.3957\n",
      "Epoch 2/5\n",
      "\u001b[1m668/668\u001b[0m \u001b[32m━━━━━━━━━━━━━━━━━━━━\u001b[0m\u001b[37m\u001b[0m \u001b[1m18s\u001b[0m 27ms/step - accuracy: 0.8758 - loss: 0.3138 - val_accuracy: 0.8697 - val_loss: 0.3180\n",
      "Epoch 3/5\n",
      "\u001b[1m668/668\u001b[0m \u001b[32m━━━━━━━━━━━━━━━━━━━━\u001b[0m\u001b[37m\u001b[0m \u001b[1m17s\u001b[0m 26ms/step - accuracy: 0.9066 - loss: 0.2418 - val_accuracy: 0.8590 - val_loss: 0.3332\n",
      "Epoch 4/5\n",
      "\u001b[1m668/668\u001b[0m \u001b[32m━━━━━━━━━━━━━━━━━━━━\u001b[0m\u001b[37m\u001b[0m \u001b[1m17s\u001b[0m 26ms/step - accuracy: 0.9204 - loss: 0.2012 - val_accuracy: 0.8645 - val_loss: 0.2929\n",
      "Epoch 5/5\n",
      "\u001b[1m668/668\u001b[0m \u001b[32m━━━━━━━━━━━━━━━━━━━━\u001b[0m\u001b[37m\u001b[0m \u001b[1m18s\u001b[0m 27ms/step - accuracy: 0.9381 - loss: 0.1600 - val_accuracy: 0.8955 - val_loss: 0.2810\n"
     ]
    },
    {
     "data": {
      "text/plain": [
       "<keras.src.callbacks.history.History at 0x16753dabf10>"
      ]
     },
     "execution_count": 12,
     "metadata": {},
     "output_type": "execute_result"
    }
   ],
   "source": [
    "\"\"\"\n",
    "from keras.models import Sequential\n",
    "from keras.layers import LSTM, Dense, Dropout\n",
    "\n",
    "def create_lstm_model(input_dim, max_len):\n",
    "    model = Sequential()\n",
    "    model.add(LSTM(128, input_shape=(max_len, input_dim)))\n",
    "    model.add(Dense(64, activation='relu'))\n",
    "    model.add(Dropout(0.2))\n",
    "    model.add(Dense(1, activation='sigmoid'))\n",
    "    return model\n",
    "\n",
    "# Define input dimensions\n",
    "input_dim = train_embeddings.shape[2]  # Dimension of BERT embeddings\n",
    "max_len = train_embeddings.shape[1]  # Maximum sequence length\n",
    "\n",
    "# Create LSTM model\n",
    "lstm_model = create_lstm_model(input_dim, max_len)\n",
    "\n",
    "# Compile LSTM model\n",
    "lstm_model.compile(optimizer='adam', loss='binary_crossentropy', metrics=['accuracy'])\n",
    "\n",
    "# Train LSTM model\n",
    "lstm_model.fit(train_embeddings, train_labels, epochs=5, validation_data=(test_embeddings, test_labels))\n",
    "\"\"\""
   ]
  },
  {
   "cell_type": "code",
   "execution_count": 10,
   "metadata": {},
   "outputs": [
    {
     "name": "stderr",
     "output_type": "stream",
     "text": [
      "C:\\Users\\aadit\\OneDrive\\Desktop\\College Stuff\\C\\python\\TDL\\cuda\\lib\\site-packages\\keras\\src\\layers\\core\\wrapper.py:27: UserWarning: Do not pass an `input_shape`/`input_dim` argument to a layer. When using Sequential models, prefer using an `Input(shape)` object as the first layer in the model instead.\n",
      "  super().__init__(**kwargs)\n"
     ]
    },
    {
     "name": "stdout",
     "output_type": "stream",
     "text": [
      "Epoch 1/5\n",
      "\u001b[1m668/668\u001b[0m \u001b[32m━━━━━━━━━━━━━━━━━━━━\u001b[0m\u001b[37m\u001b[0m \u001b[1m133s\u001b[0m 193ms/step - accuracy: 0.8282 - loss: 0.3796 - val_accuracy: 0.8804 - val_loss: 0.2781\n",
      "Epoch 2/5\n",
      "\u001b[1m668/668\u001b[0m \u001b[32m━━━━━━━━━━━━━━━━━━━━\u001b[0m\u001b[37m\u001b[0m \u001b[1m118s\u001b[0m 176ms/step - accuracy: 0.9037 - loss: 0.2317 - val_accuracy: 0.9025 - val_loss: 0.2357\n",
      "Epoch 3/5\n",
      "\u001b[1m668/668\u001b[0m \u001b[32m━━━━━━━━━━━━━━━━━━━━\u001b[0m\u001b[37m\u001b[0m \u001b[1m118s\u001b[0m 176ms/step - accuracy: 0.9375 - loss: 0.1636 - val_accuracy: 0.9088 - val_loss: 0.2265\n",
      "Epoch 4/5\n",
      "\u001b[1m668/668\u001b[0m \u001b[32m━━━━━━━━━━━━━━━━━━━━\u001b[0m\u001b[37m\u001b[0m \u001b[1m114s\u001b[0m 171ms/step - accuracy: 0.9556 - loss: 0.1114 - val_accuracy: 0.9111 - val_loss: 0.2390\n",
      "Epoch 5/5\n",
      "\u001b[1m668/668\u001b[0m \u001b[32m━━━━━━━━━━━━━━━━━━━━\u001b[0m\u001b[37m\u001b[0m \u001b[1m108s\u001b[0m 161ms/step - accuracy: 0.9744 - loss: 0.0696 - val_accuracy: 0.9058 - val_loss: 0.2925\n"
     ]
    },
    {
     "data": {
      "text/plain": [
       "<keras.src.callbacks.history.History at 0x17e250b6e20>"
      ]
     },
     "execution_count": 10,
     "metadata": {},
     "output_type": "execute_result"
    }
   ],
   "source": [
    "from keras.models import Sequential\n",
    "from keras.layers import Bidirectional, LSTM, Dense, Dropout\n",
    "\n",
    "def create_bidirectional_lstm_model(input_dim, max_len):\n",
    "    model = Sequential()\n",
    "    model.add(Bidirectional(LSTM(128), input_shape=(max_len, input_dim)))\n",
    "    model.add(Dense(64, activation='relu'))\n",
    "    model.add(Dropout(0.2))\n",
    "    model.add(Dense(1, activation='sigmoid'))\n",
    "    return model\n",
    "\n",
    "# Define input dimensions\n",
    "input_dim = train_embeddings.shape[2]  # Dimension of BERT embeddings\n",
    "max_len = train_embeddings.shape[1]  # Maximum sequence length\n",
    "\n",
    "# Create bi-directional LSTM model\n",
    "bidirectional_lstm_model = create_bidirectional_lstm_model(input_dim, max_len)\n",
    "\n",
    "# Compile bi-directional LSTM model\n",
    "bidirectional_lstm_model.compile(optimizer='adam', loss='binary_crossentropy', metrics=['accuracy'])\n",
    "\n",
    "# Train bi-directional LSTM model\n",
    "bidirectional_lstm_model.fit(train_embeddings, train_labels, epochs=5, validation_data=(test_embeddings, test_labels))\n"
   ]
  },
  {
   "cell_type": "code",
   "execution_count": 14,
   "metadata": {},
   "outputs": [],
   "source": [
    "\n",
    "\n",
    "# Save the weights of CNN model\n",
    "# Save the weights of CNN model\n",
    "cnn_model.save_weights(\"cnn_model_weights.weights.h5\")\n"
   ]
  },
  {
   "cell_type": "code",
   "execution_count": 15,
   "metadata": {},
   "outputs": [],
   "source": [
    "\n",
    "bidirectional_lstm_model.save_weights(\"bidirectional_lstm_model_weights.weights.h5\")\n"
   ]
  },
  {
   "cell_type": "code",
   "execution_count": 21,
   "metadata": {},
   "outputs": [
    {
     "name": "stdout",
     "output_type": "stream",
     "text": [
      "Shape of train_embeddings: (21367, 66, 768)\n",
      "Shape of test_embeddings: (5342, 37, 768)\n"
     ]
    }
   ],
   "source": [
    "# Check the shape of the embeddings before reshaping\n",
    "print(\"Shape of train_embeddings:\", train_embeddings.shape)\n",
    "print(\"Shape of test_embeddings:\", test_embeddings.shape)\n"
   ]
  },
  {
   "cell_type": "code",
   "execution_count": 22,
   "metadata": {},
   "outputs": [
    {
     "name": "stdout",
     "output_type": "stream",
     "text": [
      "Accuracy: 0.5688880569075253\n"
     ]
    }
   ],
   "source": [
    "from sklearn.naive_bayes import GaussianNB\n",
    "from keras.preprocessing.sequence import pad_sequences\n",
    "\n",
    "# Initialize Naive Bayes classifier\n",
    "naive_bayes_classifier = GaussianNB()\n",
    "\n",
    "# Define the maximum sequence length\n",
    "max_len = 66  # Maximum sequence length\n",
    "\n",
    "# Pad or truncate the test embeddings to match the sequence length of train embeddings\n",
    "test_embeddings_adjusted = pad_sequences(test_embeddings, maxlen=max_len, padding='post', truncating='post', dtype='float32')\n",
    "\n",
    "# Reshape the embeddings for Naive Bayes input\n",
    "train_embeddings_reshaped = train_embeddings.reshape(train_embeddings.shape[0], -1)\n",
    "test_embeddings_reshaped = test_embeddings_adjusted.reshape(test_embeddings_adjusted.shape[0], -1)\n",
    "\n",
    "# Train the Naive Bayes classifier\n",
    "naive_bayes_classifier.fit(train_embeddings_reshaped, train_labels)\n",
    "\n",
    "# Evaluate the model\n",
    "accuracy = naive_bayes_classifier.score(test_embeddings_reshaped, test_labels)\n",
    "print(\"Accuracy:\", accuracy)\n"
   ]
  },
  {
   "cell_type": "code",
   "execution_count": 23,
   "metadata": {},
   "outputs": [
    {
     "name": "stdout",
     "output_type": "stream",
     "text": [
      "Accuracy: 0.7701235492324972\n"
     ]
    }
   ],
   "source": [
    "from sklearn.neighbors import KNeighborsClassifier\n",
    "from keras.preprocessing.sequence import pad_sequences\n",
    "\n",
    "# Define the maximum sequence length\n",
    "max_len = 66  # Maximum sequence length\n",
    "\n",
    "# Pad or truncate the test embeddings to match the sequence length of train embeddings\n",
    "test_embeddings_adjusted = pad_sequences(test_embeddings, maxlen=max_len, padding='post', truncating='post', dtype='float32')\n",
    "\n",
    "# Reshape the embeddings for KNN input\n",
    "train_embeddings_reshaped = train_embeddings.reshape(train_embeddings.shape[0], -1)\n",
    "test_embeddings_reshaped = test_embeddings_adjusted.reshape(test_embeddings_adjusted.shape[0], -1)\n",
    "\n",
    "# Initialize KNN classifier\n",
    "knn_classifier = KNeighborsClassifier(n_neighbors=5)  # You can adjust the number of neighbors as needed\n",
    "\n",
    "# Train the KNN classifier\n",
    "knn_classifier.fit(train_embeddings_reshaped, train_labels)\n",
    "\n",
    "# Evaluate the model\n",
    "accuracy = knn_classifier.score(test_embeddings_reshaped, test_labels)\n",
    "print(\"Accuracy:\", accuracy)\n"
   ]
  },
  {
   "cell_type": "code",
   "execution_count": 27,
   "metadata": {},
   "outputs": [
    {
     "name": "stdout",
     "output_type": "stream",
     "text": [
      "Accuracy: 0.7787345563459378\n"
     ]
    }
   ],
   "source": [
    "from sklearn.neighbors import KNeighborsClassifier\n",
    "from keras.preprocessing.sequence import pad_sequences\n",
    "\n",
    "# Define the maximum sequence length\n",
    "max_len = 66  # Maximum sequence length\n",
    "\n",
    "# Pad or truncate the test embeddings to match the sequence length of train embeddings\n",
    "test_embeddings_adjusted = pad_sequences(test_embeddings, maxlen=max_len, padding='post', truncating='post', dtype='float32')\n",
    "\n",
    "# Reshape the embeddings for KNN input\n",
    "train_embeddings_reshaped = train_embeddings.reshape(train_embeddings.shape[0], -1)\n",
    "test_embeddings_reshaped = test_embeddings_adjusted.reshape(test_embeddings_adjusted.shape[0], -1)\n",
    "\n",
    "# Initialize KNN classifier\n",
    "knn_classifier64 = KNeighborsClassifier(n_neighbors=40)  # You can adjust the number of neighbors as needed\n",
    "\n",
    "# Train the KNN classifier\n",
    "knn_classifier64.fit(train_embeddings_reshaped, train_labels)\n",
    "\n",
    "# Evaluate the model\n",
    "accuracy = knn_classifier64.score(test_embeddings_reshaped, test_labels)\n",
    "print(\"Accuracy:\", accuracy)\n"
   ]
  },
  {
   "cell_type": "code",
   "execution_count": 22,
   "metadata": {},
   "outputs": [
    {
     "name": "stdout",
     "output_type": "stream",
     "text": [
      "\u001b[1m668/668\u001b[0m \u001b[32m━━━━━━━━━━━━━━━━━━━━\u001b[0m\u001b[37m\u001b[0m \u001b[1m4s\u001b[0m 5ms/step\n",
      "\u001b[1m668/668\u001b[0m \u001b[32m━━━━━━━━━━━━━━━━━━━━\u001b[0m\u001b[37m\u001b[0m \u001b[1m11s\u001b[0m 16ms/step\n",
      "\u001b[1m167/167\u001b[0m \u001b[32m━━━━━━━━━━━━━━━━━━━━\u001b[0m\u001b[37m\u001b[0m \u001b[1m1s\u001b[0m 4ms/step\n",
      "\u001b[1m167/167\u001b[0m \u001b[32m━━━━━━━━━━━━━━━━━━━━\u001b[0m\u001b[37m\u001b[0m \u001b[1m2s\u001b[0m 9ms/step\n",
      "SVM Accuracy: 0.9198801946836391\n"
     ]
    }
   ],
   "source": [
    "from sklearn.svm import SVC\n",
    "from sklearn.metrics import accuracy_score\n",
    "\n",
    "# Combine the outputs of CNN and Bi-directional LSTM models\n",
    "combined_features_train = np.concatenate((cnn_model.predict(train_embeddings),\n",
    "                                          bidirectional_lstm_model.predict(train_embeddings)), axis=1)\n",
    "combined_features_test = np.concatenate((cnn_model.predict(test_embeddings),\n",
    "                                         bidirectional_lstm_model.predict(test_embeddings)), axis=1)\n",
    "\n",
    "# Create and train SVM model\n",
    "svm_model = SVC(kernel='linear')\n",
    "svm_model.fit(combined_features_train, train_labels)\n",
    "\n",
    "# Make predictions on test data\n",
    "svm_predictions = svm_model.predict(combined_features_test)\n",
    "\n",
    "# Evaluate SVM model\n",
    "svm_accuracy = accuracy_score(test_labels, svm_predictions)\n",
    "print(\"SVM Accuracy:\", svm_accuracy)\n"
   ]
  },
  {
   "cell_type": "code",
   "execution_count": 30,
   "metadata": {},
   "outputs": [
    {
     "name": "stdout",
     "output_type": "stream",
     "text": [
      "\u001b[1m668/668\u001b[0m \u001b[32m━━━━━━━━━━━━━━━━━━━━\u001b[0m\u001b[37m\u001b[0m \u001b[1m8s\u001b[0m 12ms/step\n",
      "\u001b[1m668/668\u001b[0m \u001b[32m━━━━━━━━━━━━━━━━━━━━\u001b[0m\u001b[37m\u001b[0m \u001b[1m23s\u001b[0m 33ms/step\n",
      "\u001b[1m167/167\u001b[0m \u001b[32m━━━━━━━━━━━━━━━━━━━━\u001b[0m\u001b[37m\u001b[0m \u001b[1m1s\u001b[0m 6ms/step\n",
      "\u001b[1m167/167\u001b[0m \u001b[32m━━━━━━━━━━━━━━━━━━━━\u001b[0m\u001b[37m\u001b[0m \u001b[1m3s\u001b[0m 18ms/step\n",
      "SVM Accuracy: 0.9166978659678023\n"
     ]
    }
   ],
   "source": [
    "from sklearn.svm import SVC\n",
    "from sklearn.metrics import accuracy_score\n",
    "import numpy as np\n",
    "\n",
    "# Get predictions from the KNN classifier on the training set\n",
    "knn_train_predictions = knn_classifier64.predict(train_embeddings_reshaped)\n",
    "\n",
    "# Combine the outputs of CNN, Bi-directional LSTM, and KNN models\n",
    "combined_features_train = np.concatenate((cnn_model.predict(train_embeddings), \n",
    "                                          bidirectional_lstm_model.predict(train_embeddings),\n",
    "                                          knn_train_predictions.reshape(-1, 1)), axis=1)\n",
    "combined_features_test = np.concatenate((cnn_model.predict(test_embeddings), \n",
    "                                         bidirectional_lstm_model.predict(test_embeddings),\n",
    "                                         knn_predictions.reshape(-1, 1)), axis=1)\n",
    "\n",
    "# Create and train SVM model\n",
    "svm_model = SVC(kernel='linear')\n",
    "svm_model.fit(combined_features_train, train_labels)\n",
    "\n",
    "# Make predictions on test data\n",
    "svm_predictions = svm_model.predict(combined_features_test)\n",
    "\n",
    "# Evaluate SVM model\n",
    "svm_accuracy = accuracy_score(test_labels, svm_predictions)\n",
    "print(\"SVM Accuracy:\", svm_accuracy)\n"
   ]
  },
  {
   "cell_type": "code",
   "execution_count": 33,
   "metadata": {},
   "outputs": [],
   "source": [
    "import pickle\n",
    "\n",
    "# Save the SVM model weights\n",
    "with open(\"svm_model_weights.pkl\", \"wb\") as f:\n",
    "    pickle.dump(svm_model, f)\n"
   ]
  },
  {
   "cell_type": "code",
   "execution_count": null,
   "metadata": {},
   "outputs": [],
   "source": []
  }
 ],
 "metadata": {
  "kernelspec": {
   "display_name": "cuda-sarcasm-detection",
   "language": "python",
   "name": "cuda"
  },
  "language_info": {
   "codemirror_mode": {
    "name": "ipython",
    "version": 3
   },
   "file_extension": ".py",
   "mimetype": "text/x-python",
   "name": "python",
   "nbconvert_exporter": "python",
   "pygments_lexer": "ipython3",
   "version": "3.11.5"
  }
 },
 "nbformat": 4,
 "nbformat_minor": 4
}
